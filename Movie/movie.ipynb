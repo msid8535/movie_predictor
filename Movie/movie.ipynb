{
 "cells": [
  {
   "cell_type": "code",
   "execution_count": 4,
   "metadata": {},
   "outputs": [
    {
     "name": "stdout",
     "output_type": "stream",
     "text": [
      "5 movie recommendations similar to Cars are:\n",
      "\n",
      "Cars 2\n",
      "The Fast and the Furious: Tokyo Drift\n",
      "2 Fast 2 Furious\n",
      "Herbie Fully Loaded\n",
      "Back to the Future Part II\n"
     ]
    }
   ],
   "source": [
    "import pandas as pd\n",
    "import numpy as np\n",
    "from sklearn.feature_extraction.text import CountVectorizer\n",
    "from sklearn.metrics.pairwise import cosine_similarity\n",
    "df = pd.read_csv(\"movie_dataset.csv\")\n",
    "\n",
    "#keywords for the feature set\n",
    "features = ['keywords','cast','genres','director']\n",
    "\n",
    "#create a function for combining the values of these columns\n",
    "def combine_features(row):\n",
    "    return row['keywords']+\" \"+row['cast']+\" \"+row['genres']+\" \"+row['director']\n",
    "\n",
    "#call this function over each row of our dataframe\n",
    "for feature in features:\n",
    "    df[feature] = df[feature].fillna('') #filling all NaNs with blank string\n",
    "\n",
    "#applying combined_features() method over each rows of dataframe and storing the combined string in \"combined_features\" column\n",
    "df[\"combined_features\"] = df.apply(combine_features,axis=1) \n",
    "\n",
    "#feed these strings to a CountVectorizer() object\n",
    "cv = CountVectorizer() \n",
    "count_matrix = cv.fit_transform(df[\"combined_features\"])\n",
    "\n",
    "#obtain the cosine similarity matrix\n",
    "cosine_sim = cosine_similarity(count_matrix)\n",
    "\n",
    "#define two helper functions to get movie title from movie index and vice-versa\n",
    "def get_title_from_index(index):\n",
    "    return df[df.index == index][\"title\"].values[0]\n",
    "def get_index_from_title(title):\n",
    "    return df[df.title == title][\"index\"].values[0]\n",
    "\n",
    "#get from standard input\n",
    "movie_user_likes = input(\"Enter your movie choice: \")\n",
    "movie_index = get_index_from_title(movie_user_likes)\n",
    "similar_movies = list(enumerate(cosine_sim[movie_index]))\n",
    "\n",
    "#sort by similarity, ignore first \n",
    "sorted_similar_movies = sorted(similar_movies,key=lambda x:x[1],reverse=True)[1:6]\n",
    "\n",
    "i=0\n",
    "print(\"5 movie recommendations similar to \"+movie_user_likes+\" are:\\n\")\n",
    "for element in sorted_similar_movies:\n",
    "    print(get_title_from_index(element[0]))\n",
    "    i+= 1\n",
    "    if i>5:\n",
    "        break"
   ]
  }
 ],
 "metadata": {
  "kernelspec": {
   "display_name": "Python 3",
   "language": "python",
   "name": "python3"
  },
  "language_info": {
   "codemirror_mode": {
    "name": "ipython",
    "version": 3
   },
   "file_extension": ".py",
   "mimetype": "text/x-python",
   "name": "python",
   "nbconvert_exporter": "python",
   "pygments_lexer": "ipython3",
   "version": "3.9.6"
  }
 },
 "nbformat": 4,
 "nbformat_minor": 2
}
